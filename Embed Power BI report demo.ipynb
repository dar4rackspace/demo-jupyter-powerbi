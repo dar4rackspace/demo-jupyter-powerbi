{
 "cells": [
  {
   "cell_type": "markdown",
   "metadata": {},
   "source": [
    "# Embedding sample notebook"
   ]
  },
  {
   "cell_type": "markdown",
   "metadata": {},
   "source": [
    "The following notebook demonstartes how to embed your Power BI content in a Jupyter notebook and interact with it.\n",
    "To run the demo, you will need to obtain your report id and group (workspace) id from the URL of your report."
   ]
  },
  {
   "cell_type": "code",
   "execution_count": 1,
   "metadata": {},
   "outputs": [],
   "source": [
    "from powerbiclient.authentication import InteractiveLoginAuthentication\n",
    "from powerbiclient import Report, models\n",
    "from io import StringIO\n",
    "from ipywidgets import interact\n",
    "import requests\n",
    "import pandas as pd\n",
    "import matplotlib"
   ]
  },
  {
   "cell_type": "markdown",
   "metadata": {},
   "source": [
    "### Authenticate to Power BI"
   ]
  },
  {
   "cell_type": "markdown",
   "metadata": {},
   "source": [
    "\n",
    "#### The following authentication methods can be used to authenticate the user and get the access token:\n",
    "\n",
    "- [Device flow authentication](https://msal-python.readthedocs.io/en/latest/#msal.PublicClientApplication.acquire_token_by_device_flow)\n",
    "    \n",
    "    Code snippet:\n",
    "    ``` py\n",
    "  from powerbiclient.authentication import DeviceCodeLoginAuthentication\n",
    "  device_auth = DeviceCodeLoginAuthentication()\n",
    "    ```\n",
    "- [Interactive authentication](https://msal-python.readthedocs.io/en/latest/#msal.PublicClientApplication.acquire_token_interactive)\n",
    "    \n",
    "    Code snippet:\n",
    "    ``` py\n",
    "  from powerbiclient.authentication import InteractiveLoginAuthentication\n",
    "  interactive_auth = InteractiveLoginAuthentication()    \n",
    "    ```\n",
    "\n",
    "Note: Either use auth object created or access token acquired above while creating the report instance\n"
   ]
  },
  {
   "cell_type": "markdown",
   "metadata": {},
   "source": [
    "#### Run the cell below to obtain the auth object using the Device Flow Authentication method for the demo notebook"
   ]
  },
  {
   "cell_type": "code",
   "execution_count": 2,
   "metadata": {},
   "outputs": [
    {
     "name": "stdout",
     "output_type": "stream",
     "text": [
      "A local browser window will open for interactive sign in.\n",
      "\n",
      "Interactive authentication successfully completed.\n",
      "You are now logged in.\n",
      "\n",
      "The result should be passed only to trusted code in your notebook.\n"
     ]
    }
   ],
   "source": [
    "# Auth object for demo\n",
    "auth = InteractiveLoginAuthentication()"
   ]
  },
  {
   "cell_type": "markdown",
   "metadata": {},
   "source": [
    "### Create an instance of Power BI Report"
   ]
  },
  {
   "cell_type": "markdown",
   "metadata": {},
   "source": [
    "- Below snippets are the values for optional view_mode parameter\n",
    "``` py \n",
    "view_mode=models.EmbedMode.VIEW.value\n",
    "view_mode=models.EmbedMode.EDIT.value\n",
    "view_mode=models.EmbedMode.CREATE.value\n",
    "``` \n",
    "Default value for the parameter is \n",
    "``` py \n",
    "view_mode=models.EmbedMode.VIEW.value \n",
    "```\n",
    "\n",
    "- Below snippets are the values for the [permissions](https://docs.microsoft.com/en-us/javascript/api/overview/powerbi/configure-report-settings#open-in-edit-mode) parameter for embedding the report in EDIT mode\n",
    "``` py \n",
    "permissions=models.Permissions.READWRITE.value\n",
    "permissions=models.Permissions.COPY.value\n",
    "permissions=models.Permissions.ALL.value\n",
    "``` \n",
    "\n",
    "#### Render report in Create mode\n",
    "To create a new report in embed mode, the following additional parameters need to be passed\n",
    "``` py\n",
    "dataset_id='a87ccf23-f2ce-4fde-a095-90e45d850503'\n",
    "view_mode=models.EmbedMode.CREATE.value\n",
    "```"
   ]
  },
  {
   "cell_type": "markdown",
   "metadata": {},
   "source": [
    "#### Replace the group_id and report_id parameters with your own report ID and group ID and run the cell below to create a Power BI report instance:"
   ]
  },
  {
   "cell_type": "code",
   "execution_count": 3,
   "metadata": {},
   "outputs": [
    {
     "name": "stdout",
     "output_type": "stream",
     "text": [
      "Report is loaded\n",
      "Report is rendered\n",
      "Report is rendered\n"
     ]
    }
   ],
   "source": [
    "dataset_id='a87ccf23-f2ce-4fde-a095-90e45d850503'\n",
    "view_mode=models.EmbedMode.CREATE.value\n",
    "group_id = \"51ada905-6b70-4ab8-8416-75d4c33fca67\"\n",
    "report_id = \"f92cde0f-e99d-4fa6-a401-e3610798dc3f\"\n",
    "report = Report(group_id=group_id, report_id=report_id, auth=auth)"
   ]
  },
  {
   "cell_type": "markdown",
   "metadata": {},
   "source": [
    "### Power BI event handlers"
   ]
  },
  {
   "cell_type": "markdown",
   "metadata": {},
   "source": [
    "#### Set report loaded event handler"
   ]
  },
  {
   "cell_type": "code",
   "execution_count": 10,
   "metadata": {},
   "outputs": [],
   "source": [
    "def loaded_callback(event_details):\n",
    "    print('Report is loaded')\n",
    "\n",
    "report.on('loaded', loaded_callback)"
   ]
  },
  {
   "cell_type": "markdown",
   "metadata": {},
   "source": [
    "#### Set report rendered event handler"
   ]
  },
  {
   "cell_type": "code",
   "execution_count": 11,
   "metadata": {},
   "outputs": [],
   "source": [
    "def rendered_callback(event_details):\n",
    "    print('Report is rendered')\n",
    "\n",
    "report.on('rendered', rendered_callback)"
   ]
  },
  {
   "cell_type": "markdown",
   "metadata": {},
   "source": [
    "#### Load the report in the output cell"
   ]
  },
  {
   "cell_type": "code",
   "execution_count": 12,
   "metadata": {
    "scrolled": false
   },
   "outputs": [
    {
     "data": {
      "application/vnd.jupyter.widget-view+json": {
       "model_id": "22883cf5b0d240d298e4c794247dbfb2",
       "version_major": 2,
       "version_minor": 0
      },
      "text/plain": [
       "Report(container_height=600.0, container_width=900.0)"
      ]
     },
     "execution_count": 12,
     "metadata": {},
     "output_type": "execute_result"
    }
   ],
   "source": [
    "# Render report\n",
    "report"
   ]
  },
  {
   "cell_type": "markdown",
   "metadata": {},
   "source": [
    "#### Change dimensions of embedded report"
   ]
  },
  {
   "cell_type": "code",
   "execution_count": 13,
   "metadata": {
    "scrolled": false
   },
   "outputs": [],
   "source": [
    "# Change dimensions of embedded report\n",
    "report.set_size(600, 900)"
   ]
  },
  {
   "cell_type": "markdown",
   "metadata": {},
   "source": [
    "### Export data from a visual of the embedded report"
   ]
  },
  {
   "cell_type": "markdown",
   "metadata": {},
   "source": [
    "#### Get the active page"
   ]
  },
  {
   "cell_type": "code",
   "execution_count": 14,
   "metadata": {
    "scrolled": false
   },
   "outputs": [],
   "source": [
    "def get_active_page(self):\n",
    "    \n",
    "    # Get list of pages\n",
    "    pages = self.get_pages()\n",
    "    active_page = {}\n",
    "    for page in pages:\n",
    "        \n",
    "        # Get active page\n",
    "        if page['isActive'] == True:\n",
    "            active_page = page\n",
    "            break\n",
    "    return active_page"
   ]
  },
  {
   "cell_type": "markdown",
   "metadata": {},
   "source": [
    "#### Get the visual whose data is to be exported"
   ]
  },
  {
   "cell_type": "markdown",
   "metadata": {},
   "source": [
    "Make sure that the active page on the report you're embedding has a visual of type 'clustered column chart', or change to a different visual type below."
   ]
  },
  {
   "cell_type": "code",
   "execution_count": 22,
   "metadata": {},
   "outputs": [],
   "source": [
    "active_page = get_active_page(report)\n",
    "active_page_name = active_page['name']\n",
    "\n",
    "# Get list of visuals on active page\n",
    "visuals = report.visuals_on_page(active_page_name)\n",
    "\n",
    "# Get visual whose type is 'clusteredColumnChart'\n",
    "visual = next(filter(lambda visual: visual['type'] == 'lineChart', visuals))\n",
    "visual_name = visual['name']"
   ]
  },
  {
   "cell_type": "markdown",
   "metadata": {},
   "source": [
    "#### Export summarized data from a visual of the embedded report"
   ]
  },
  {
   "cell_type": "code",
   "execution_count": 23,
   "metadata": {},
   "outputs": [
    {
     "name": "stdout",
     "output_type": "stream",
     "text": [
      "created,Sum of id\n",
      "2018-01-08 19:18:38,1372479\n",
      "2019-10-30 21:24:14,2987100\n",
      "2020-04-13 22:46:09,3253635\n",
      "2020-06-25 22:20:54,3350139\n",
      "2020-06-30 15:18:36,3353925\n",
      "2020-08-24 18:36:20,3407118\n",
      "2020-10-06 16:28:29,3448983\n",
      "2020-10-21 20:49:23,3464679\n",
      "2020-10-21 22:33:03,3464790\n",
      "2020-10-21 23:30:30,3464826\n",
      "2021-01-12 23:15:32,3523338\n",
      "2021-01-13 15:23:43,3524937\n",
      "2021-01-13 15:32:30,3524973\n",
      "2021-01-13 15:38:00,3524991\n",
      "2021-01-13 16:05:56,3525072\n",
      "2021-01-18 11:37:26,3527760\n",
      "2021-01-19 15:06:28,3529332\n",
      "2021-01-22 16:08:26,3533553\n",
      "2021-01-27 14:14:55,3536544\n",
      "2021-05-20 19:55:36,3636462\n",
      "\n"
     ]
    }
   ],
   "source": [
    "summarized_exported_data = report.export_visual_data(active_page_name, visual_name, rows = 20)\n",
    "\n",
    "print(summarized_exported_data)"
   ]
  },
  {
   "cell_type": "markdown",
   "metadata": {},
   "source": [
    "#### Export underlying data from a visual of the embedded report"
   ]
  },
  {
   "cell_type": "code",
   "execution_count": 24,
   "metadata": {},
   "outputs": [
    {
     "name": "stdout",
     "output_type": "stream",
     "text": [
      "created,Sum of id,description,summary,issue_key\n",
      "2018-01-08 19:18:38,457493,\"Epic Purpose: tech debt and adhoc analysis tickets\n",
      "\n",
      "Also See\n",
      "\n",
      "[https://rackspace.atlassian.net/browse/DATA-29305|https://rackspace.atlassian.net/browse/DATA-29305|smart-link]\n",
      "\n",
      "[https://rackspace.atlassian.net/browse/DATA-29304|https://rackspace.atlassian.net/browse/DATA-29304|smart-link]\n",
      "\n",
      "\n",
      "\n",
      "-Originally created-\n",
      "\n",
      "-This charter will cover all Global Data efforts capturing system enhancements covering productivity, overlay, focus and automation for the Enterprise.   Enhancements are classified as  a noteworthy improvement to a product as part of a new version of it that enables and provides new funcationality to the business. Any enhancements or changes to CORP DMART requested from the enterprise.-\n",
      "\n",
      "-Systems In Scope - Corporate DMART.-\",Engineering AdHoc,DATA-137\n",
      "2018-01-08 19:18:38,457493,\"Epic Purpose: tech debt and adhoc analysis tickets\n",
      "\n",
      "Also See\n",
      "\n",
      "[https://rackspace.atlassian.net/browse/DATA-29305|https://rackspace.atlassian.net/browse/DATA-29305|smart-link]\n",
      "\n",
      "[https://rackspace.atlassian.net/browse/DATA-29304|https://rackspace.atlassian.net/browse/DATA-29304|smart-link]\n",
      "\n",
      "\n",
      "\n",
      "-Originally created-\n",
      "\n",
      "-This charter will cover all Global Data efforts capturing system enhancements covering productivity, overlay, focus and automation for the Enterprise.   Enhancements are classified as  a noteworthy improvement to a product as part of a new version of it that enables and provides new funcationality to the business. Any enhancements or changes to CORP DMART requested from the enterprise.-\n",
      "\n",
      "-Systems In Scope - Corporate DMART.-\",Engineering AdHoc,DATA-137\n",
      "2018-01-08 19:18:38,457493,\"Epic Purpose: tech debt and adhoc analysis tickets\n",
      "\n",
      "Also See\n",
      "\n",
      "[https://rackspace.atlassian.net/browse/DATA-29305|https://rackspace.atlassian.net/browse/DATA-29305|smart-link]\n",
      "\n",
      "[https://rackspace.atlassian.net/browse/DATA-29304|https://rackspace.atlassian.net/browse/DATA-29304|smart-link]\n",
      "\n",
      "\n",
      "\n",
      "-Originally created-\n",
      "\n",
      "-This charter will cover all Global Data efforts capturing system enhancements covering productivity, overlay, focus and automation for the Enterprise.   Enhancements are classified as  a noteworthy improvement to a product as part of a new version of it that enables and provides new funcationality to the business. Any enhancements or changes to CORP DMART requested from the enterprise.-\n",
      "\n",
      "-Systems In Scope - Corporate DMART.-\",Engineering AdHoc,DATA-137\n",
      "2019-10-30 21:24:14,995700,Scrum Team for all BI AdHoc Request,BIVIZ AdHoc ,DATA-6487\n",
      "2019-10-30 21:24:14,995700,Scrum Team for all BI AdHoc Request,BIVIZ AdHoc ,DATA-6487\n",
      "\n"
     ]
    }
   ],
   "source": [
    "underlying_exported_data = report.export_visual_data(active_page_name, visual_name, rows = 5, export_data_type = models.ExportDataType.UNDERLYING.value)\n",
    "\n",
    "print(underlying_exported_data)"
   ]
  },
  {
   "cell_type": "markdown",
   "metadata": {},
   "source": [
    "### Convert exported visual data into CSV and load into pandas dataframe"
   ]
  },
  {
   "cell_type": "code",
   "execution_count": 25,
   "metadata": {},
   "outputs": [
    {
     "data": {
      "text/html": [
       "<div>\n",
       "<style scoped>\n",
       "    .dataframe tbody tr th:only-of-type {\n",
       "        vertical-align: middle;\n",
       "    }\n",
       "\n",
       "    .dataframe tbody tr th {\n",
       "        vertical-align: top;\n",
       "    }\n",
       "\n",
       "    .dataframe thead th {\n",
       "        text-align: right;\n",
       "    }\n",
       "</style>\n",
       "<table border=\"1\" class=\"dataframe\">\n",
       "  <thead>\n",
       "    <tr style=\"text-align: right;\">\n",
       "      <th></th>\n",
       "      <th>created</th>\n",
       "      <th>Sum of id</th>\n",
       "    </tr>\n",
       "  </thead>\n",
       "  <tbody>\n",
       "    <tr>\n",
       "      <th>0</th>\n",
       "      <td>2018-01-08 19:18:38</td>\n",
       "      <td>1372479</td>\n",
       "    </tr>\n",
       "    <tr>\n",
       "      <th>1</th>\n",
       "      <td>2019-10-30 21:24:14</td>\n",
       "      <td>2987100</td>\n",
       "    </tr>\n",
       "    <tr>\n",
       "      <th>2</th>\n",
       "      <td>2020-04-13 22:46:09</td>\n",
       "      <td>3253635</td>\n",
       "    </tr>\n",
       "    <tr>\n",
       "      <th>3</th>\n",
       "      <td>2020-06-25 22:20:54</td>\n",
       "      <td>3350139</td>\n",
       "    </tr>\n",
       "    <tr>\n",
       "      <th>4</th>\n",
       "      <td>2020-06-30 15:18:36</td>\n",
       "      <td>3353925</td>\n",
       "    </tr>\n",
       "  </tbody>\n",
       "</table>\n",
       "</div>"
      ],
      "text/plain": [
       "               created  Sum of id\n",
       "0  2018-01-08 19:18:38    1372479\n",
       "1  2019-10-30 21:24:14    2987100\n",
       "2  2020-04-13 22:46:09    3253635\n",
       "3  2020-06-25 22:20:54    3350139\n",
       "4  2020-06-30 15:18:36    3353925"
      ]
     },
     "execution_count": 25,
     "metadata": {},
     "output_type": "execute_result"
    }
   ],
   "source": [
    "data = StringIO(summarized_exported_data)\n",
    "\n",
    "df = pd.read_csv(data, sep=\",\")\n",
    "df.head()"
   ]
  },
  {
   "cell_type": "markdown",
   "metadata": {},
   "source": [
    "### Visualize the data"
   ]
  },
  {
   "cell_type": "markdown",
   "metadata": {},
   "source": [
    "Adjust the plot parameters below to fit your report"
   ]
  },
  {
   "cell_type": "code",
   "execution_count": null,
   "metadata": {},
   "outputs": [],
   "source": [
    "df.plot.pie(y=\"Total Units\", labels=df.loc[:,'isVanArsdel'].values.tolist(), figsize=(10,15))"
   ]
  },
  {
   "cell_type": "markdown",
   "metadata": {},
   "source": [
    "### Filter the report by region using iPyWidget"
   ]
  },
  {
   "cell_type": "markdown",
   "metadata": {},
   "source": [
    "Adjust the filter below to fit your report"
   ]
  },
  {
   "cell_type": "code",
   "execution_count": null,
   "metadata": {},
   "outputs": [],
   "source": [
    "def filter_report(Region):\n",
    "    region_filter = {\n",
    "        '$schema': \"http://powerbi.com/product/schema#basic\",\n",
    "        'target': {\n",
    "            'table': \"Geo\",\n",
    "            'column': \"Region\"\n",
    "        },\n",
    "        'operator': \"In\",\n",
    "        'values': [Region]\n",
    "    }\n",
    "    report.remove_filters()\n",
    "    report.update_filters([region_filter])"
   ]
  },
  {
   "cell_type": "code",
   "execution_count": null,
   "metadata": {},
   "outputs": [],
   "source": [
    "report"
   ]
  },
  {
   "cell_type": "code",
   "execution_count": null,
   "metadata": {},
   "outputs": [],
   "source": [
    "interact(filter_report, Region=['Central','East', 'West']);"
   ]
  },
  {
   "cell_type": "markdown",
   "metadata": {},
   "source": [
    "### Get filters applied on the report"
   ]
  },
  {
   "cell_type": "code",
   "execution_count": null,
   "metadata": {},
   "outputs": [],
   "source": [
    "report.get_filters()"
   ]
  },
  {
   "cell_type": "markdown",
   "metadata": {},
   "source": [
    "### Get report bookmarks"
   ]
  },
  {
   "cell_type": "code",
   "execution_count": null,
   "metadata": {},
   "outputs": [],
   "source": [
    "# Get list of bookmarks\n",
    "bookmarks_list = report.get_bookmarks()\n",
    "\n",
    "# Convert the list into a dataframe\n",
    "bookmarks_dataframe = pd.DataFrame(bookmarks_list)\n",
    "\n",
    "# Rename columns\n",
    "bookmarks_dataframe.rename(columns={'name':'Name', 'displayName':'Display Name', 'state':'State'}, inplace=True)\n",
    "bookmarks_dataframe"
   ]
  },
  {
   "cell_type": "markdown",
   "metadata": {},
   "source": [
    "### Apply report bookmark"
   ]
  },
  {
   "cell_type": "code",
   "execution_count": null,
   "metadata": {},
   "outputs": [],
   "source": [
    "def apply_bookmark(BookmarkDisplayName):\n",
    "    \n",
    "    # Get bookmark name corresponding to the display name provided by the user\n",
    "    bookmark_name = bookmarks_dataframe[bookmarks_dataframe['Display Name'] == BookmarkDisplayName].Name.values[0]\n",
    "    report.set_bookmark(bookmark_name)"
   ]
  },
  {
   "cell_type": "markdown",
   "metadata": {},
   "source": [
    "### Apply bookmark using ipywidget"
   ]
  },
  {
   "cell_type": "code",
   "execution_count": null,
   "metadata": {},
   "outputs": [],
   "source": [
    "report"
   ]
  },
  {
   "cell_type": "code",
   "execution_count": null,
   "metadata": {},
   "outputs": [],
   "source": [
    "interact(apply_bookmark, BookmarkDisplayName=bookmarks_dataframe['Display Name'])"
   ]
  }
 ],
 "metadata": {
  "kernelspec": {
   "display_name": "Python 3 (ipykernel)",
   "language": "python",
   "name": "python3"
  },
  "language_info": {
   "codemirror_mode": {
    "name": "ipython",
    "version": 3
   },
   "file_extension": ".py",
   "mimetype": "text/x-python",
   "name": "python",
   "nbconvert_exporter": "python",
   "pygments_lexer": "ipython3",
   "version": "3.10.14"
  }
 },
 "nbformat": 4,
 "nbformat_minor": 2
}
